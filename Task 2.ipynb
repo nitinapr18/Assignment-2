{
 "cells": [
  {
   "cell_type": "markdown",
   "metadata": {},
   "source": [
    "## Task 2"
   ]
  },
  {
   "cell_type": "markdown",
   "metadata": {},
   "source": [
    "### 1.1 Write a Python Program(with class concepts) to find the area of the triangle using the below formula.area = (s*(s-a)*(s-b)*(s-c)) ** 0.5Function to take the length of the sides of triangle from user should be defined in the parentclass and function to calculate the area should be defined in subclass."
   ]
  },
  {
   "cell_type": "code",
   "execution_count": 31,
   "metadata": {},
   "outputs": [
    {
     "name": "stdout",
     "output_type": "stream",
     "text": [
      "7.5\n"
     ]
    },
    {
     "data": {
      "text/plain": [
       "(1.319073798297046e-15+21.542109924517607j)"
      ]
     },
     "execution_count": 31,
     "metadata": {},
     "output_type": "execute_result"
    }
   ],
   "source": [
    "class Triangle:\n",
    "    def __init__(_self,a,b,c):\n",
    "        _self._a=a\n",
    "        _self._b=b\n",
    "        _self._c=c\n",
    "        \n",
    "class Area(Triangle):\n",
    "    def get_Area(self):\n",
    "        s = (self._a+self._b+self._c)/2.0\n",
    "        print(s)\n",
    "        return (s*(s-self._a)*(s-self._b)*(s-self._c))**0.5\n",
    "        \n",
    "area =  Area(10,2,3)\n",
    "\n",
    "area.get_Area()    "
   ]
  },
  {
   "cell_type": "markdown",
   "metadata": {},
   "source": [
    "### 1.2\n",
    "### Write a function filter_long_words() that takes a list of words and an integer n and returns the list of words that are longer than n."
   ]
  },
  {
   "cell_type": "code",
   "execution_count": 21,
   "metadata": {},
   "outputs": [
    {
     "data": {
      "text/plain": [
       "['xyzsa']"
      ]
     },
     "execution_count": 21,
     "metadata": {},
     "output_type": "execute_result"
    }
   ],
   "source": [
    "def filter_long_words(strlst,n):\n",
    "    return [i for i in strlst if len(i)>n]\n",
    "    \n",
    "lst=[\"abc\",\"xyzsa\",\"bc\"]\n",
    "n=3\n",
    "filter_long_words(lst,n)"
   ]
  },
  {
   "cell_type": "markdown",
   "metadata": {},
   "source": [
    "### 2.1 Write a Python program using function concept that maps list of words into a list of integers representing the lengths of the corresponding words .Hint: If a list [ ab,cde,erty] is passed on to the python function output should come as [2,3,4]Here 2,3 and 4 are the lengths of the words in the list.\n"
   ]
  },
  {
   "cell_type": "code",
   "execution_count": 1,
   "metadata": {},
   "outputs": [],
   "source": [
    "def mapWordToInt(strlst):\n",
    "    return len(strlst)"
   ]
  },
  {
   "cell_type": "code",
   "execution_count": 4,
   "metadata": {},
   "outputs": [
    {
     "name": "stdout",
     "output_type": "stream",
     "text": [
      "[4, 3, 2]\n"
     ]
    }
   ],
   "source": [
    "Strlst = ['abcd','xyz','lm']\n",
    "out=list(map(mapWordToInt,Strlst))\n",
    "print(out)\n"
   ]
  },
  {
   "cell_type": "markdown",
   "metadata": {},
   "source": [
    "### 2.2\n",
    "### Write a Python function which takes a character (i.e. a string of length 1) and returns True if it is a vowel, False otherwise."
   ]
  },
  {
   "cell_type": "code",
   "execution_count": 16,
   "metadata": {},
   "outputs": [
    {
     "name": "stdout",
     "output_type": "stream",
     "text": [
      "enter the charector: o\n",
      "True\n"
     ]
    }
   ],
   "source": [
    "def isVowel(ch):\n",
    "    if ch in ('a','e','i','o','u'):\n",
    "        return True\n",
    "    elif ch in ('A','E','I','O','U'):\n",
    "        return True\n",
    "    else:\n",
    "        return False\n",
    "    \n",
    "ch = input(\"enter the charector: \")\n",
    "\n",
    "if len(ch)==1:\n",
    "    myInput = isVowel(ch)\n",
    "    print(myInput)\n",
    "else:\n",
    "    print(\"Error : Please enter single character\")\n",
    "    \n"
   ]
  },
  {
   "cell_type": "code",
   "execution_count": null,
   "metadata": {},
   "outputs": [],
   "source": []
  },
  {
   "cell_type": "code",
   "execution_count": null,
   "metadata": {},
   "outputs": [],
   "source": []
  }
 ],
 "metadata": {
  "kernelspec": {
   "display_name": "Python 3",
   "language": "python",
   "name": "python3"
  },
  "language_info": {
   "codemirror_mode": {
    "name": "ipython",
    "version": 3
   },
   "file_extension": ".py",
   "mimetype": "text/x-python",
   "name": "python",
   "nbconvert_exporter": "python",
   "pygments_lexer": "ipython3",
   "version": "3.7.3"
  }
 },
 "nbformat": 4,
 "nbformat_minor": 2
}
